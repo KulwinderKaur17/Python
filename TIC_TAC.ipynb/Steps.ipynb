{
 "cells": [
  {
   "cell_type": "markdown",
   "metadata": {},
   "source": [
    "*Step 1: Write a function that can print out a board. Set up your board as a list, where each index 1-9 corresponds with a number on a number pad, so you get a 3 by 3 board representation.*"
   ]
  },
  {
   "cell_type": "code",
   "execution_count": 52,
   "metadata": {},
   "outputs": [],
   "source": [
    "from IPython.display import clear_output\n",
    "def display_board(board):\n",
    "    print(' '+'|'+' '+'|')\n",
    "    print(board[7]+'|'+board[8]+'|'+board[9])\n",
    "    print(' '+'|'+' '+'|')\n",
    "    print('-----')\n",
    "    print(' '+'|'+' '+'|')\n",
    "    print(board[4]+'|'+board[5]+'|'+board[6])\n",
    "    print(' '+'|'+' '+'|')\n",
    "    print('-----')\n",
    "    print(' '+'|'+' '+'|')\n",
    "    print(board[1]+'|'+board[2]+'|'+board[3])\n",
    "    print(' '+'|'+' '+'|')\n",
    "   "
   ]
  },
  {
   "cell_type": "code",
   "execution_count": 53,
   "metadata": {},
   "outputs": [
    {
     "name": "stdout",
     "output_type": "stream",
     "text": [
      " | |\n",
      "X|O|X\n",
      " | |\n",
      "-----\n",
      " | |\n",
      "O|X|O\n",
      " | |\n",
      "-----\n",
      " | |\n",
      "X|O|X\n",
      " | |\n"
     ]
    }
   ],
   "source": [
    "test_board = ['#','X','O','X','O','X','O','X','O','X']\n",
    "display_board(test_board)"
   ]
  },
  {
   "cell_type": "code",
   "execution_count": 54,
   "metadata": {},
   "outputs": [
    {
     "name": "stdout",
     "output_type": "stream",
     "text": [
      " | |\n",
      " | | \n",
      " | |\n",
      "-----\n",
      " | |\n",
      " | | \n",
      " | |\n",
      "-----\n",
      " | |\n",
      " | | \n",
      " | |\n"
     ]
    }
   ],
   "source": [
    "board = ['#',' ',' ',' ',' ',' ',' ',' ',' ',' ']\n",
    "display_board(board)"
   ]
  },
  {
   "cell_type": "code",
   "execution_count": 55,
   "metadata": {},
   "outputs": [],
   "source": [
    "from IPython.display import clear_output\n",
    "def display_board(board):\n",
    "    print(board[7]+'|'+board[8]+'|'+board[9])\n",
    "    print('-----')\n",
    "    print(board[4]+'|'+board[5]+'|'+board[6])\n",
    "    print('-----')\n",
    "    print(board[1]+'|'+board[2]+'|'+board[3])"
   ]
  },
  {
   "cell_type": "code",
   "execution_count": 56,
   "metadata": {},
   "outputs": [
    {
     "name": "stdout",
     "output_type": "stream",
     "text": [
      "7|8|9\n",
      "-----\n",
      "4|5|6\n",
      "-----\n",
      "1|2|3\n"
     ]
    }
   ],
   "source": [
    "board = ['#','1','2','3','4','5','6','7','8','9']\n",
    "display_board(board)"
   ]
  },
  {
   "cell_type": "markdown",
   "metadata": {},
   "source": [
    "*Step 2: Write a function that can take in a player input and assign their marker as 'X' or 'O'. Think about using while loops to continually ask until you get a correct answer.*"
   ]
  },
  {
   "cell_type": "code",
   "execution_count": 57,
   "metadata": {},
   "outputs": [],
   "source": [
    "def player_input():\n",
    "    choice = ''\n",
    "    print('Player 1 choose input variable either (X or O)')\n",
    "    while choice !=\"X\" and choice !=\"O\":\n",
    "        choice = input('Player 1 choose input variable either (X or O): ')\n",
    "        if choice ==\"X\":\n",
    "            print(\"player1 has input 'X' \")\n",
    "            player1 = \"X\"\n",
    "            print('Playe2 has input O')\n",
    "            player2 = 'O'\n",
    "        elif choice ==\"O\":\n",
    "            print(\"player1 has input 'O' \")\n",
    "            player1 = \"O\"\n",
    "            print('Playe2 has input X')\n",
    "            player2 = 'X'\n",
    "    return (player1,player2)"
   ]
  },
  {
   "cell_type": "code",
   "execution_count": 58,
   "metadata": {},
   "outputs": [
    {
     "name": "stdout",
     "output_type": "stream",
     "text": [
      "Player 1 choose input variable either (X or O)\n",
      "player1 has input 'O' \n",
      "Playe2 has input X\n"
     ]
    },
    {
     "data": {
      "text/plain": [
       "('O', 'X')"
      ]
     },
     "execution_count": 58,
     "metadata": {},
     "output_type": "execute_result"
    }
   ],
   "source": [
    "player_input()"
   ]
  },
  {
   "cell_type": "code",
   "execution_count": 59,
   "metadata": {},
   "outputs": [],
   "source": [
    "def player_input():\n",
    "    marker = ''\n",
    "    print('Player 1 choose input variable either (X or O)')\n",
    "    while marker !=\"X\" and marker !=\"O\":\n",
    "        marker = input('Player 1 choose input either (X or O): ')\n",
    "        player1=marker\n",
    "    if player1=='X':\n",
    "        player2='O'\n",
    "    else:\n",
    "        player2 ='X'\n",
    "    return (player1,player2)"
   ]
  },
  {
   "cell_type": "code",
   "execution_count": 60,
   "metadata": {},
   "outputs": [
    {
     "name": "stdout",
     "output_type": "stream",
     "text": [
      "Player 1 choose input variable either (X or O)\n"
     ]
    },
    {
     "data": {
      "text/plain": [
       "('O', 'X')"
      ]
     },
     "execution_count": 60,
     "metadata": {},
     "output_type": "execute_result"
    }
   ],
   "source": [
    "player_input()"
   ]
  },
  {
   "cell_type": "markdown",
   "metadata": {},
   "source": [
    "*Step 3: Write a function that takes in the board list object, a marker ('X' or 'O'), and a desired position (number 1-9) and assigns it to the board.*"
   ]
  },
  {
   "cell_type": "code",
   "execution_count": 74,
   "metadata": {},
   "outputs": [],
   "source": [
    "def place_marker(board, marker, position):\n",
    "    position = input('Pick a position (1 to 9) in the board')\n",
    "    board[position]=marker"
   ]
  },
  {
   "cell_type": "code",
   "execution_count": 75,
   "metadata": {},
   "outputs": [
    {
     "ename": "NameError",
     "evalue": "name 'position' is not defined",
     "output_type": "error",
     "traceback": [
      "\u001b[1;31m---------------------------------------------------------------------------\u001b[0m",
      "\u001b[1;31mNameError\u001b[0m                                 Traceback (most recent call last)",
      "\u001b[1;32m~\\AppData\\Local\\Temp/ipykernel_9460/2560317296.py\u001b[0m in \u001b[0;36m<module>\u001b[1;34m\u001b[0m\n\u001b[0;32m      1\u001b[0m \u001b[0mmarker\u001b[0m\u001b[1;33m=\u001b[0m\u001b[1;34m'X'\u001b[0m\u001b[1;33m\u001b[0m\u001b[1;33m\u001b[0m\u001b[0m\n\u001b[1;32m----> 2\u001b[1;33m \u001b[0mplace_marker\u001b[0m\u001b[1;33m(\u001b[0m\u001b[0mboard\u001b[0m\u001b[1;33m,\u001b[0m \u001b[0mmarker\u001b[0m\u001b[1;33m,\u001b[0m \u001b[0mposition\u001b[0m\u001b[1;33m)\u001b[0m\u001b[1;33m\u001b[0m\u001b[1;33m\u001b[0m\u001b[0m\n\u001b[0m",
      "\u001b[1;31mNameError\u001b[0m: name 'position' is not defined"
     ]
    }
   ],
   "source": [
    "marker='X'\n",
    "place_marker(board, marker, position)"
   ]
  },
  {
   "cell_type": "code",
   "execution_count": null,
   "metadata": {},
   "outputs": [],
   "source": []
  }
 ],
 "metadata": {
  "interpreter": {
   "hash": "b3ba2566441a7c06988d0923437866b63cedc61552a5af99d1f4fb67d367b25f"
  },
  "kernelspec": {
   "display_name": "Python 3.9.7 ('base')",
   "language": "python",
   "name": "python3"
  },
  "language_info": {
   "codemirror_mode": {
    "name": "ipython",
    "version": 3
   },
   "file_extension": ".py",
   "mimetype": "text/x-python",
   "name": "python",
   "nbconvert_exporter": "python",
   "pygments_lexer": "ipython3",
   "version": "3.9.7"
  },
  "orig_nbformat": 4
 },
 "nbformat": 4,
 "nbformat_minor": 2
}
